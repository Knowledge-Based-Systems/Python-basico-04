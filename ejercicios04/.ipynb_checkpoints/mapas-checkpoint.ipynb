{
 "cells": [
  {
   "cell_type": "code",
   "execution_count": 1,
   "id": "22cc5316",
   "metadata": {},
   "outputs": [
    {
     "name": "stdout",
     "output_type": "stream",
     "text": [
      "Collecting ipyleaflet\n",
      "  Using cached ipyleaflet-0.15.0-py2.py3-none-any.whl (3.3 MB)\n",
      "Requirement already satisfied: ipywidgets<8,>=7.6.0 in /home/reroes/entornos/envpy39-data2/lib/python3.9/site-packages (from ipyleaflet) (7.6.3)\n",
      "Collecting xyzservices>=2021.8.1\n",
      "  Downloading xyzservices-2022.3.0-py3-none-any.whl (36 kB)\n",
      "Collecting traittypes<3,>=0.2.1\n",
      "  Using cached traittypes-0.2.1-py2.py3-none-any.whl (8.6 kB)\n",
      "Requirement already satisfied: nbformat>=4.2.0 in /home/reroes/entornos/envpy39-data2/lib/python3.9/site-packages (from ipywidgets<8,>=7.6.0->ipyleaflet) (5.1.3)\n",
      "Requirement already satisfied: ipython>=4.0.0 in /home/reroes/entornos/envpy39-data2/lib/python3.9/site-packages (from ipywidgets<8,>=7.6.0->ipyleaflet) (7.26.0)\n",
      "Requirement already satisfied: jupyterlab-widgets>=1.0.0 in /home/reroes/entornos/envpy39-data2/lib/python3.9/site-packages (from ipywidgets<8,>=7.6.0->ipyleaflet) (1.0.0)\n",
      "Requirement already satisfied: widgetsnbextension~=3.5.0 in /home/reroes/entornos/envpy39-data2/lib/python3.9/site-packages (from ipywidgets<8,>=7.6.0->ipyleaflet) (3.5.1)\n",
      "Requirement already satisfied: ipykernel>=4.5.1 in /home/reroes/entornos/envpy39-data2/lib/python3.9/site-packages (from ipywidgets<8,>=7.6.0->ipyleaflet) (6.2.0)\n",
      "Requirement already satisfied: traitlets>=4.3.1 in /home/reroes/entornos/envpy39-data2/lib/python3.9/site-packages (from ipywidgets<8,>=7.6.0->ipyleaflet) (5.0.5)\n",
      "Requirement already satisfied: debugpy<2.0,>=1.0.0 in /home/reroes/entornos/envpy39-data2/lib/python3.9/site-packages (from ipykernel>=4.5.1->ipywidgets<8,>=7.6.0->ipyleaflet) (1.4.1)\n",
      "Requirement already satisfied: jupyter-client<8.0 in /home/reroes/entornos/envpy39-data2/lib/python3.9/site-packages (from ipykernel>=4.5.1->ipywidgets<8,>=7.6.0->ipyleaflet) (7.0.1)\n",
      "Requirement already satisfied: tornado<7.0,>=4.2 in /home/reroes/entornos/envpy39-data2/lib/python3.9/site-packages (from ipykernel>=4.5.1->ipywidgets<8,>=7.6.0->ipyleaflet) (6.1)\n",
      "Requirement already satisfied: matplotlib-inline<0.2.0,>=0.1.0 in /home/reroes/entornos/envpy39-data2/lib/python3.9/site-packages (from ipykernel>=4.5.1->ipywidgets<8,>=7.6.0->ipyleaflet) (0.1.2)\n",
      "Requirement already satisfied: pickleshare in /home/reroes/entornos/envpy39-data2/lib/python3.9/site-packages (from ipython>=4.0.0->ipywidgets<8,>=7.6.0->ipyleaflet) (0.7.5)\n",
      "Requirement already satisfied: jedi>=0.16 in /home/reroes/entornos/envpy39-data2/lib/python3.9/site-packages (from ipython>=4.0.0->ipywidgets<8,>=7.6.0->ipyleaflet) (0.18.0)\n",
      "Requirement already satisfied: pexpect>4.3 in /home/reroes/entornos/envpy39-data2/lib/python3.9/site-packages (from ipython>=4.0.0->ipywidgets<8,>=7.6.0->ipyleaflet) (4.8.0)\n",
      "Requirement already satisfied: prompt-toolkit!=3.0.0,!=3.0.1,<3.1.0,>=2.0.0 in /home/reroes/entornos/envpy39-data2/lib/python3.9/site-packages (from ipython>=4.0.0->ipywidgets<8,>=7.6.0->ipyleaflet) (3.0.20)\n",
      "Requirement already satisfied: decorator in /home/reroes/entornos/envpy39-data2/lib/python3.9/site-packages (from ipython>=4.0.0->ipywidgets<8,>=7.6.0->ipyleaflet) (5.0.9)\n",
      "Requirement already satisfied: pygments in /home/reroes/entornos/envpy39-data2/lib/python3.9/site-packages (from ipython>=4.0.0->ipywidgets<8,>=7.6.0->ipyleaflet) (2.10.0)\n",
      "Requirement already satisfied: setuptools>=18.5 in /home/reroes/entornos/envpy39-data2/lib/python3.9/site-packages (from ipython>=4.0.0->ipywidgets<8,>=7.6.0->ipyleaflet) (57.4.0)\n",
      "Requirement already satisfied: backcall in /home/reroes/entornos/envpy39-data2/lib/python3.9/site-packages (from ipython>=4.0.0->ipywidgets<8,>=7.6.0->ipyleaflet) (0.2.0)\n",
      "Requirement already satisfied: parso<0.9.0,>=0.8.0 in /home/reroes/entornos/envpy39-data2/lib/python3.9/site-packages (from jedi>=0.16->ipython>=4.0.0->ipywidgets<8,>=7.6.0->ipyleaflet) (0.8.2)\n",
      "Requirement already satisfied: pyzmq>=13 in /home/reroes/entornos/envpy39-data2/lib/python3.9/site-packages (from jupyter-client<8.0->ipykernel>=4.5.1->ipywidgets<8,>=7.6.0->ipyleaflet) (22.2.1)\n",
      "Requirement already satisfied: jupyter-core>=4.6.0 in /home/reroes/entornos/envpy39-data2/lib/python3.9/site-packages (from jupyter-client<8.0->ipykernel>=4.5.1->ipywidgets<8,>=7.6.0->ipyleaflet) (4.7.1)\n",
      "Requirement already satisfied: entrypoints in /home/reroes/entornos/envpy39-data2/lib/python3.9/site-packages (from jupyter-client<8.0->ipykernel>=4.5.1->ipywidgets<8,>=7.6.0->ipyleaflet) (0.3)\n",
      "Requirement already satisfied: python-dateutil>=2.1 in /home/reroes/entornos/envpy39-data2/lib/python3.9/site-packages (from jupyter-client<8.0->ipykernel>=4.5.1->ipywidgets<8,>=7.6.0->ipyleaflet) (2.8.2)\n",
      "Requirement already satisfied: nest-asyncio>=1.5 in /home/reroes/entornos/envpy39-data2/lib/python3.9/site-packages (from jupyter-client<8.0->ipykernel>=4.5.1->ipywidgets<8,>=7.6.0->ipyleaflet) (1.5.1)\n",
      "Requirement already satisfied: jsonschema!=2.5.0,>=2.4 in /home/reroes/entornos/envpy39-data2/lib/python3.9/site-packages (from nbformat>=4.2.0->ipywidgets<8,>=7.6.0->ipyleaflet) (3.2.0)\n",
      "Requirement already satisfied: ipython-genutils in /home/reroes/entornos/envpy39-data2/lib/python3.9/site-packages (from nbformat>=4.2.0->ipywidgets<8,>=7.6.0->ipyleaflet) (0.2.0)\n",
      "Requirement already satisfied: pyrsistent>=0.14.0 in /home/reroes/entornos/envpy39-data2/lib/python3.9/site-packages (from jsonschema!=2.5.0,>=2.4->nbformat>=4.2.0->ipywidgets<8,>=7.6.0->ipyleaflet) (0.18.0)\n",
      "Requirement already satisfied: six>=1.11.0 in /home/reroes/entornos/envpy39-data2/lib/python3.9/site-packages (from jsonschema!=2.5.0,>=2.4->nbformat>=4.2.0->ipywidgets<8,>=7.6.0->ipyleaflet) (1.16.0)\n",
      "Requirement already satisfied: attrs>=17.4.0 in /home/reroes/entornos/envpy39-data2/lib/python3.9/site-packages (from jsonschema!=2.5.0,>=2.4->nbformat>=4.2.0->ipywidgets<8,>=7.6.0->ipyleaflet) (21.2.0)\n",
      "Requirement already satisfied: ptyprocess>=0.5 in /home/reroes/entornos/envpy39-data2/lib/python3.9/site-packages (from pexpect>4.3->ipython>=4.0.0->ipywidgets<8,>=7.6.0->ipyleaflet) (0.7.0)\n",
      "Requirement already satisfied: wcwidth in /home/reroes/entornos/envpy39-data2/lib/python3.9/site-packages (from prompt-toolkit!=3.0.0,!=3.0.1,<3.1.0,>=2.0.0->ipython>=4.0.0->ipywidgets<8,>=7.6.0->ipyleaflet) (0.2.5)\n",
      "Requirement already satisfied: notebook>=4.4.1 in /home/reroes/entornos/envpy39-data2/lib/python3.9/site-packages (from widgetsnbextension~=3.5.0->ipywidgets<8,>=7.6.0->ipyleaflet) (6.4.3)\n",
      "Requirement already satisfied: jinja2 in /home/reroes/entornos/envpy39-data2/lib/python3.9/site-packages (from notebook>=4.4.1->widgetsnbextension~=3.5.0->ipywidgets<8,>=7.6.0->ipyleaflet) (3.0.1)\n",
      "Requirement already satisfied: Send2Trash>=1.5.0 in /home/reroes/entornos/envpy39-data2/lib/python3.9/site-packages (from notebook>=4.4.1->widgetsnbextension~=3.5.0->ipywidgets<8,>=7.6.0->ipyleaflet) (1.8.0)\n",
      "Requirement already satisfied: argon2-cffi in /home/reroes/entornos/envpy39-data2/lib/python3.9/site-packages (from notebook>=4.4.1->widgetsnbextension~=3.5.0->ipywidgets<8,>=7.6.0->ipyleaflet) (20.1.0)\n",
      "Requirement already satisfied: prometheus-client in /home/reroes/entornos/envpy39-data2/lib/python3.9/site-packages (from notebook>=4.4.1->widgetsnbextension~=3.5.0->ipywidgets<8,>=7.6.0->ipyleaflet) (0.11.0)\n",
      "Requirement already satisfied: terminado>=0.8.3 in /home/reroes/entornos/envpy39-data2/lib/python3.9/site-packages (from notebook>=4.4.1->widgetsnbextension~=3.5.0->ipywidgets<8,>=7.6.0->ipyleaflet) (0.11.1)\n",
      "Requirement already satisfied: nbconvert in /home/reroes/entornos/envpy39-data2/lib/python3.9/site-packages (from notebook>=4.4.1->widgetsnbextension~=3.5.0->ipywidgets<8,>=7.6.0->ipyleaflet) (6.1.0)\n",
      "Requirement already satisfied: cffi>=1.0.0 in /home/reroes/entornos/envpy39-data2/lib/python3.9/site-packages (from argon2-cffi->notebook>=4.4.1->widgetsnbextension~=3.5.0->ipywidgets<8,>=7.6.0->ipyleaflet) (1.14.6)\n",
      "Requirement already satisfied: pycparser in /home/reroes/entornos/envpy39-data2/lib/python3.9/site-packages (from cffi>=1.0.0->argon2-cffi->notebook>=4.4.1->widgetsnbextension~=3.5.0->ipywidgets<8,>=7.6.0->ipyleaflet) (2.20)\n",
      "Requirement already satisfied: MarkupSafe>=2.0 in /home/reroes/entornos/envpy39-data2/lib/python3.9/site-packages (from jinja2->notebook>=4.4.1->widgetsnbextension~=3.5.0->ipywidgets<8,>=7.6.0->ipyleaflet) (2.0.1)\n"
     ]
    },
    {
     "name": "stdout",
     "output_type": "stream",
     "text": [
      "Requirement already satisfied: defusedxml in /home/reroes/entornos/envpy39-data2/lib/python3.9/site-packages (from nbconvert->notebook>=4.4.1->widgetsnbextension~=3.5.0->ipywidgets<8,>=7.6.0->ipyleaflet) (0.7.1)\n",
      "Requirement already satisfied: testpath in /home/reroes/entornos/envpy39-data2/lib/python3.9/site-packages (from nbconvert->notebook>=4.4.1->widgetsnbextension~=3.5.0->ipywidgets<8,>=7.6.0->ipyleaflet) (0.5.0)\n",
      "Requirement already satisfied: nbclient<0.6.0,>=0.5.0 in /home/reroes/entornos/envpy39-data2/lib/python3.9/site-packages (from nbconvert->notebook>=4.4.1->widgetsnbextension~=3.5.0->ipywidgets<8,>=7.6.0->ipyleaflet) (0.5.4)\n",
      "Requirement already satisfied: jupyterlab-pygments in /home/reroes/entornos/envpy39-data2/lib/python3.9/site-packages (from nbconvert->notebook>=4.4.1->widgetsnbextension~=3.5.0->ipywidgets<8,>=7.6.0->ipyleaflet) (0.1.2)\n",
      "Requirement already satisfied: pandocfilters>=1.4.1 in /home/reroes/entornos/envpy39-data2/lib/python3.9/site-packages (from nbconvert->notebook>=4.4.1->widgetsnbextension~=3.5.0->ipywidgets<8,>=7.6.0->ipyleaflet) (1.4.3)\n",
      "Requirement already satisfied: mistune<2,>=0.8.1 in /home/reroes/entornos/envpy39-data2/lib/python3.9/site-packages (from nbconvert->notebook>=4.4.1->widgetsnbextension~=3.5.0->ipywidgets<8,>=7.6.0->ipyleaflet) (0.8.4)\n",
      "Requirement already satisfied: bleach in /home/reroes/entornos/envpy39-data2/lib/python3.9/site-packages (from nbconvert->notebook>=4.4.1->widgetsnbextension~=3.5.0->ipywidgets<8,>=7.6.0->ipyleaflet) (4.0.0)\n",
      "Requirement already satisfied: packaging in /home/reroes/entornos/envpy39-data2/lib/python3.9/site-packages (from bleach->nbconvert->notebook>=4.4.1->widgetsnbextension~=3.5.0->ipywidgets<8,>=7.6.0->ipyleaflet) (21.0)\n",
      "Requirement already satisfied: webencodings in /home/reroes/entornos/envpy39-data2/lib/python3.9/site-packages (from bleach->nbconvert->notebook>=4.4.1->widgetsnbextension~=3.5.0->ipywidgets<8,>=7.6.0->ipyleaflet) (0.5.1)\n",
      "Requirement already satisfied: pyparsing>=2.0.2 in /home/reroes/entornos/envpy39-data2/lib/python3.9/site-packages (from packaging->bleach->nbconvert->notebook>=4.4.1->widgetsnbextension~=3.5.0->ipywidgets<8,>=7.6.0->ipyleaflet) (2.4.7)\n",
      "Installing collected packages: xyzservices, traittypes, ipyleaflet\n",
      "Successfully installed ipyleaflet-0.15.0 traittypes-0.2.1 xyzservices-2022.3.0\n",
      "\u001b[33mWARNING: You are using pip version 21.2.4; however, version 22.0.4 is available.\n",
      "You should consider upgrading via the '/home/reroes/entornos/envpy39-data2/bin/python3.9 -m pip install --upgrade pip' command.\u001b[0m\n"
     ]
    }
   ],
   "source": [
    "# !pip install ipyleaflet"
   ]
  },
  {
   "cell_type": "code",
   "execution_count": 3,
   "id": "7ade5fbf",
   "metadata": {},
   "outputs": [
    {
     "data": {
      "application/vnd.jupyter.widget-view+json": {
       "model_id": "7cff18f1d3b840f0a1326483a1760c29",
       "version_major": 2,
       "version_minor": 0
      },
      "text/plain": [
       "Map(center=[52.204793, 360.121558], controls=(ZoomControl(options=['position', 'zoom_in_text', 'zoom_in_title'…"
      ]
     },
     "metadata": {},
     "output_type": "display_data"
    }
   ],
   "source": [
    "from ipyleaflet import Map, LocalTileLayer\n",
    "\n",
    "m = Map(center=(52.204793, 360.121558), zoom=9)\n",
    "m.add_layer(LocalTileLayer(path='tiles/{z}/{x}/{y}.png'))\n",
    "\n",
    "m"
   ]
  },
  {
   "cell_type": "code",
   "execution_count": 4,
   "id": "6596f8a8",
   "metadata": {},
   "outputs": [
    {
     "data": {
      "application/vnd.jupyter.widget-view+json": {
       "model_id": "7cff18f1d3b840f0a1326483a1760c29",
       "version_major": 2,
       "version_minor": 0
      },
      "text/plain": [
       "Map(center=[52.204793, 360.121558], controls=(ZoomControl(options=['position', 'zoom_in_text', 'zoom_in_title'…"
      ]
     },
     "metadata": {},
     "output_type": "display_data"
    }
   ],
   "source": [
    "m"
   ]
  }
 ],
 "metadata": {
  "kernelspec": {
   "display_name": "Python 3 (ipykernel)",
   "language": "python",
   "name": "python3"
  },
  "language_info": {
   "codemirror_mode": {
    "name": "ipython",
    "version": 3
   },
   "file_extension": ".py",
   "mimetype": "text/x-python",
   "name": "python",
   "nbconvert_exporter": "python",
   "pygments_lexer": "ipython3",
   "version": "3.9.6"
  }
 },
 "nbformat": 4,
 "nbformat_minor": 5
}
